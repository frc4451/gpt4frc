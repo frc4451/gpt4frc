{
 "cells": [
  {
   "cell_type": "code",
   "execution_count": 4,
   "metadata": {},
   "outputs": [
    {
     "data": {
      "text/plain": [
       "True"
      ]
     },
     "execution_count": 4,
     "metadata": {},
     "output_type": "execute_result"
    }
   ],
   "source": [
    "import os\n",
    "from pprint import pprint\n",
    "from gpt4frc import GPT4FRC\n",
    "from dotenv import load_dotenv\n",
    "load_dotenv()"
   ]
  },
  {
   "cell_type": "code",
   "execution_count": 2,
   "metadata": {},
   "outputs": [],
   "source": [
    "gpt4frc = GPT4FRC.from_chatgpt(\n",
    "    openai_api_key=os.environ.get(\"OPENAI_API_KEY\"),\n",
    "    retriever_args={\n",
    "        \"documents_path\": os.path.join(\"documents\", \"2023FRCGameManual.pdf\")\n",
    "    }\n",
    ")"
   ]
  },
  {
   "cell_type": "code",
   "execution_count": 5,
   "metadata": {},
   "outputs": [
    {
     "name": "stdout",
     "output_type": "stream",
     "text": [
      "('According to the provided context, in the FIRST Robotics Competition, robots '\n",
      " \"are not allowed to pin an opponent's robot for more than 5 seconds. Pinning \"\n",
      " 'is defined as preventing the movement of an opponent robot by contact, '\n",
      " 'either direct or transitive. A robot is considered pinned until the robots '\n",
      " 'have separated by at least 6 ft., either one robot has moved 6 ft. from '\n",
      " 'where the pin initiated, or the pinning robot gets pinned, whichever comes '\n",
      " 'first. The pinning robot must then wait for at least 3 seconds before '\n",
      " 'attempting to pin the same robot again. Violation of this rule results in a '\n",
      " 'foul, and an additional tech foul for every 5 seconds in which the situation '\n",
      " 'is not corrected.')\n"
     ]
    }
   ],
   "source": [
    "pprint(gpt4frc.ask_question(question=\"What do you know about FIRST Robotics Competition?\"))"
   ]
  },
  {
   "cell_type": "code",
   "execution_count": 6,
   "metadata": {},
   "outputs": [
    {
     "name": "stdout",
     "output_type": "stream",
     "text": [
      "('The given context does not provide any information about the definition or '\n",
      " 'duration of the Teleoperated period in the FIRST Robotics Competition. I '\n",
      " \"don't have access to that specific information.\")\n"
     ]
    }
   ],
   "source": [
    "pprint(gpt4frc.ask_question(question=\"What do you know about the Teleoperated period?\"))"
   ]
  }
 ],
 "metadata": {
  "kernelspec": {
   "display_name": "gpt4frc",
   "language": "python",
   "name": "python3"
  },
  "language_info": {
   "codemirror_mode": {
    "name": "ipython",
    "version": 3
   },
   "file_extension": ".py",
   "mimetype": "text/x-python",
   "name": "python",
   "nbconvert_exporter": "python",
   "pygments_lexer": "ipython3",
   "version": "3.11.4"
  },
  "orig_nbformat": 4
 },
 "nbformat": 4,
 "nbformat_minor": 2
}
