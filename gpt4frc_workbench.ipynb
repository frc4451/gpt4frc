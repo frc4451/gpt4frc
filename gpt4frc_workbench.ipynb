{
 "cells": [
  {
   "cell_type": "code",
   "execution_count": 35,
   "metadata": {},
   "outputs": [
    {
     "data": {
      "text/plain": [
       "True"
      ]
     },
     "execution_count": 35,
     "metadata": {},
     "output_type": "execute_result"
    }
   ],
   "source": [
    "import os\n",
    "from pprint import pprint\n",
    "from gpt4frc import GPT4FRC\n",
    "from dotenv import load_dotenv\n",
    "load_dotenv()"
   ]
  },
  {
   "cell_type": "code",
   "execution_count": 40,
   "metadata": {},
   "outputs": [],
   "source": [
    "gpt4frc = GPT4FRC.from_chatgpt(\n",
    "    openai_model=\"gpt-4\",\n",
    "    openai_api_key=os.environ.get(\"OPENAI_API_KEY\"),\n",
    "    retriever_args={\n",
    "        \"documents_path\": os.path.join(\"sources\", \"documents\", \"2023FRCGameManual.pdf\")\n",
    "    }\n",
    ")"
   ]
  },
  {
   "cell_type": "code",
   "execution_count": 41,
   "metadata": {},
   "outputs": [
    {
     "name": "stdout",
     "output_type": "stream",
     "text": [
      "('The FIRST® Robotics Competition is a program provided by FIRST® (For '\n",
      " \"Inspiration and Recognition of Science and Technology). It's designed for \"\n",
      " 'students in grades 9-12, ages 14-18. In this competition, the excitement of '\n",
      " 'sport is combined with the rigors of science and technology. Teams of '\n",
      " 'students are challenged to design, build, and program industrial-size robots '\n",
      " 'and compete for awards. During this process, they also create a team '\n",
      " 'identity, raise funds, and hone teamwork skills. The competition is also '\n",
      " 'used to advance respect and appreciation for STEM within the local '\n",
      " 'community.')\n"
     ]
    }
   ],
   "source": [
    "pprint(gpt4frc.ask_question(question=\"What do you know about FIRST Robotics Competition?\"))"
   ]
  },
  {
   "cell_type": "code",
   "execution_count": 42,
   "metadata": {},
   "outputs": [
    {
     "name": "stdout",
     "output_type": "stream",
     "text": [
      "('The Teleoperated Period, also known as TELEOP, is the second phase of each '\n",
      " 'match in the FIRST Robotics Competition. This phase lasts for two minutes '\n",
      " 'and fifteen seconds (2:15). During this phase, drivers remotely operate the '\n",
      " 'robots to retrieve and score game pieces. The final thirty seconds (0:30) of '\n",
      " 'the TELEOP stage is called the ENDGAME, during which robots attempt to park, '\n",
      " \"dock on, and/or engage with their alliance's charge station or continue to \"\n",
      " 'score game pieces.')\n"
     ]
    }
   ],
   "source": [
    "pprint(gpt4frc.ask_question(question=\"What do you know about the Teleoperated period?\"))"
   ]
  },
  {
   "cell_type": "code",
   "execution_count": 43,
   "metadata": {},
   "outputs": [
    {
     "name": "stdout",
     "output_type": "stream",
     "text": [
      "('\"CHARGED UP\" is a game presented by Haas in which two competing alliances '\n",
      " 'are invited to process game pieces to bring energy to their community. Each '\n",
      " 'alliance brings energy to their community by retrieving their game pieces '\n",
      " 'from substations and scoring it into the grid. Human players provide the '\n",
      " 'game pieces to the robots from the substations. \\n'\n",
      " '\\n'\n",
      " 'Each match begins with a 15-second autonomous period, during which time '\n",
      " 'alliance robots operate only on pre-programmed instructions to score points '\n",
      " 'by leaving their community, retrieving and scoring game pieces onto the '\n",
      " 'grid, and docking on or engaging with their charge station. \\n'\n",
      " '\\n'\n",
      " 'In the final 2 minutes and 15 seconds of the match, drivers take control of '\n",
      " 'the robots and score points by continuing to retrieve and score their game '\n",
      " 'pieces onto the grid and docking on or engaging with their charge station. '\n",
      " 'The alliance with the highest score at the end of the match wins.')\n"
     ]
    }
   ],
   "source": [
    "pprint(gpt4frc.ask_question(question=\"What do you know about Charged Up?\"))"
   ]
  },
  {
   "cell_type": "code",
   "execution_count": 44,
   "metadata": {},
   "outputs": [
    {
     "name": "stdout",
     "output_type": "stream",
     "text": [
      "('In the CHARGED UP game of the FIRST Robotics Competition, each match begins '\n",
      " 'with a 15-second autonomous period. During this time, alliance robots '\n",
      " 'operate only on pre-programmed instructions. They score points by doing the '\n",
      " 'following activities:\\n'\n",
      " '\\n'\n",
      " '1. Leaving their community.\\n'\n",
      " '2. Retrieving and scoring game pieces onto the grid.\\n'\n",
      " '3. Docking on or engaging with their charge station.\\n'\n",
      " '\\n'\n",
      " 'No human control is involved in this period; the robots perform tasks based '\n",
      " 'solely on pre-programmed instructions.')\n"
     ]
    }
   ],
   "source": [
    "pprint(gpt4frc.ask_question(question=\"What are the rules for the Autonomous period?\"))"
   ]
  },
  {
   "cell_type": "code",
   "execution_count": 46,
   "metadata": {},
   "outputs": [
    {
     "name": "stdout",
     "output_type": "stream",
     "text": [
      "('In the CHARGED UP game of the FIRST Robotics Competition, two competing '\n",
      " 'alliances are invited to process game pieces to bring energy to their '\n",
      " 'community. Each alliance brings energy by retrieving their game pieces from '\n",
      " 'substations and scoring it into the grid. Human players provide the game '\n",
      " 'pieces to the robots from the substations. \\n'\n",
      " '\\n'\n",
      " 'Each match begins with a 15-second autonomous period, during which time '\n",
      " 'alliance robots operate only on pre-programmed instructions to score points '\n",
      " 'by leaving their community, retrieving and scoring game pieces onto the '\n",
      " 'grid, and docking on or engaging with their charge station.\\n'\n",
      " '\\n'\n",
      " 'In the final 2 minutes and 15 seconds of the match, drivers take control of '\n",
      " 'the robots and score points by continuing to retrieve and score their game '\n",
      " 'pieces onto the grid and docking on or engaging with their charge station. \\n'\n",
      " '\\n'\n",
      " 'The alliance with the highest score at the end of the match wins.')\n"
     ]
    }
   ],
   "source": [
    "pprint(gpt4frc.ask_question(question=\"What are the rules for scoring game pieces?\"))"
   ]
  },
  {
   "cell_type": "code",
   "execution_count": 47,
   "metadata": {},
   "outputs": [
    {
     "name": "stdout",
     "output_type": "stream",
     "text": [
      "('The maximum allowed height for a robot in the Charged Up game of the FIRST '\n",
      " 'Robotics Competition is 6 ft. 6 in. (~198 cm) above the carpet during the '\n",
      " 'match.')\n"
     ]
    }
   ],
   "source": [
    "pprint(gpt4frc.ask_question(question=\"What is the maximum height of the robot allowed in Charged Up?\"))"
   ]
  },
  {
   "cell_type": "code",
   "execution_count": 48,
   "metadata": {},
   "outputs": [
    {
     "name": "stdout",
     "output_type": "stream",
     "text": [
      "('In the FIRST Robotics Competition, robots are required to use bumpers to '\n",
      " 'protect all outside corners of the frame perimeter. For adequate protection, '\n",
      " 'at least 6 inches (approximately 16 cm) of bumper must be placed on each '\n",
      " 'side of each outside corner and must extend to within ¼ inch (approximately '\n",
      " '6 mm) of the frame perimeter corner. If a frame perimeter side is shorter '\n",
      " 'than 12 inches (approximately 31 cm), that entire frame perimeter side must '\n",
      " 'be protected by a bumper. A round or circular frame perimeter, or segment of '\n",
      " 'the frame perimeter, is considered to have an infinite number of corners, '\n",
      " 'therefore the entire frame or frame segment must be completely protected by '\n",
      " 'bumpers.')\n"
     ]
    }
   ],
   "source": [
    "pprint(gpt4frc.ask_question(question=\"What kind of coverage do you need for bumpers on the robot?\"))"
   ]
  },
  {
   "cell_type": "code",
   "execution_count": 49,
   "metadata": {},
   "outputs": [
    {
     "name": "stdout",
     "output_type": "stream",
     "text": [
      "('The actions that could qualify for a RED CARD in the Charged Up game of the '\n",
      " 'FIRST Robotics Competition are not specifically listed in the provided '\n",
      " 'context, but it is mentioned that the Head REFEREE may assign a RED CARD for '\n",
      " 'egregious behavior inappropriate at a FIRST Robotics Competition event. Some '\n",
      " 'examples of behaviors that could automatically result in a YELLOW or RED '\n",
      " 'CARD include inappropriate behavior, jumping over the guardrail, pinning in '\n",
      " 'excess of 15 seconds, exploiting the 3-second window after a MATCH, and '\n",
      " 'moving a scored GAME PIECE from an opponent’s complete set of GRIDS. A '\n",
      " 'YELLOW CARD can be converted to a RED CARD if a team receives a second '\n",
      " 'YELLOW CARD. The Head REFEREE has the final authority on all rules and '\n",
      " 'violations at an event.')\n"
     ]
    }
   ],
   "source": [
    "pprint(gpt4frc.ask_question(question=\"What qualifies as a red card in Charged Up?\"))\n"
   ]
  },
  {
   "cell_type": "code",
   "execution_count": 50,
   "metadata": {},
   "outputs": [
    {
     "name": "stdout",
     "output_type": "stream",
     "text": [
      "('In the Charged Up game of the FIRST Robotics Competition, the following '\n",
      " 'technical fouls are mentioned:\\n'\n",
      " '\\n'\n",
      " '1. Rule G402: Robots may not deliberately use game pieces in an attempt to '\n",
      " 'ease or amplify challenges associated with field elements. Violation results '\n",
      " 'in a technical foul per game piece.\\n'\n",
      " '\\n'\n",
      " \"2. Rule G57: If a robot doesn't correct a situation such as shutting down \"\n",
      " 'access to all game pieces, quarantining all opponents to a small area of the '\n",
      " 'field, blocking all access to the loading zone, or blocking all access to '\n",
      " 'the community within 5 seconds, it results in a technical foul, plus an '\n",
      " 'additional technical foul for every 5 seconds in which the situation is not '\n",
      " 'corrected.\\n'\n",
      " '\\n'\n",
      " '3. Rule G205: A robot may not damage or functionally impair an opponent '\n",
      " 'robot in either of the following ways: deliberately, as perceived by a '\n",
      " 'referee, or regardless of intent, by initiating contact, either directly or '\n",
      " 'transitively via a game piece controlled by the robot, inside the vertical '\n",
      " 'projection of an opponent robot’s frame perimeter. Violation results in a '\n",
      " \"technical foul and yellow card. If opponent robot is unable to drive, it's a \"\n",
      " 'technical foul and a red card.')\n"
     ]
    }
   ],
   "source": [
    "pprint(gpt4frc.ask_question(question=\"What is the list of tech fouls?\"))\n"
   ]
  },
  {
   "cell_type": "code",
   "execution_count": 52,
   "metadata": {},
   "outputs": [
    {
     "name": "stdout",
     "output_type": "stream",
     "text": [
      "('The point value for each robot that is docked and engaged with the charge '\n",
      " 'station is 12 points in the autonomous period (AUTO) and 10 points in the '\n",
      " \"teleoperated period (TELEOP). However, it's important to note that only one \"\n",
      " 'robot can score these points during the autonomous period. For three robots, '\n",
      " 'the point value would be 30 points in the teleoperated period.')\n"
     ]
    }
   ],
   "source": [
    "pprint(gpt4frc.ask_question(question=\"How many points do you get when you have three robots balanced on the charging station at the end of the game?\"))"
   ]
  }
 ],
 "metadata": {
  "kernelspec": {
   "display_name": "gpt4frc",
   "language": "python",
   "name": "python3"
  },
  "language_info": {
   "codemirror_mode": {
    "name": "ipython",
    "version": 3
   },
   "file_extension": ".py",
   "mimetype": "text/x-python",
   "name": "python",
   "nbconvert_exporter": "python",
   "pygments_lexer": "ipython3",
   "version": "3.11.4"
  },
  "orig_nbformat": 4
 },
 "nbformat": 4,
 "nbformat_minor": 2
}
