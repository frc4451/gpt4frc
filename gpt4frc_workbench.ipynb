{
 "cells": [
  {
   "cell_type": "code",
   "execution_count": 4,
   "metadata": {},
   "outputs": [
    {
     "data": {
      "text/plain": [
       "True"
      ]
     },
     "execution_count": 4,
     "metadata": {},
     "output_type": "execute_result"
    }
   ],
   "source": [
    "import os\n",
    "from pprint import pprint\n",
    "from gpt4frc import GPT4FRC\n",
    "from dotenv import load_dotenv\n",
    "load_dotenv()"
   ]
  },
  {
   "cell_type": "code",
   "execution_count": 5,
   "metadata": {},
   "outputs": [],
   "source": [
    "gpt4frc = GPT4FRC.from_chatgpt(\n",
    "    openai_api_key=os.environ.get(\"OPENAI_API_KEY\"),\n",
    "    retriever_args={\n",
    "        \"documents_path\": os.path.join(\"documents\", \"2023FRCGameManual.pdf\")\n",
    "    }\n",
    ")"
   ]
  },
  {
   "cell_type": "code",
   "execution_count": 6,
   "metadata": {},
   "outputs": [
    {
     "name": "stdout",
     "output_type": "stream",
     "text": [
      "('FIRST Robotics Competition (FRC) is a program within FIRST (For Inspiration '\n",
      " 'and Recognition of Science and Technology) that combines the excitement of '\n",
      " 'sports with the rigor of science and technology. In FRC, teams of high '\n",
      " 'school students are challenged to design, build, and program '\n",
      " 'industrial-sized robots to compete for awards. The program also emphasizes '\n",
      " 'teamwork, fundraising, and community engagement. FRC provides students with '\n",
      " 'real-world engineering experience and access to exclusive scholarship '\n",
      " 'opportunities. Each year, a new game is introduced at the Kickoff event, '\n",
      " 'where teams learn about the game rules and receive a Kickoff Kit to start '\n",
      " 'building their robots. FRC teams participate in regional and district '\n",
      " 'competitions, with the opportunity to qualify for the FIRST Championship. '\n",
      " 'Safety is a priority, and rules are in place to mitigate injury risks. '\n",
      " 'Gracious Professionalism is a key value in FIRST, promoting high-quality '\n",
      " 'work, respect for others, and community involvement.')\n"
     ]
    }
   ],
   "source": [
    "pprint(gpt4frc.ask_question(question=\"What do you know about FIRST Robotics Competition?\"))"
   ]
  },
  {
   "cell_type": "code",
   "execution_count": 7,
   "metadata": {},
   "outputs": [
    {
     "name": "stdout",
     "output_type": "stream",
     "text": [
      "('The Teleoperated Period is the second phase of each match, lasting two '\n",
      " 'minutes and fifteen seconds. During this phase, the drivers remotely operate '\n",
      " 'the robots to retrieve and score game pieces. The final thirty seconds of '\n",
      " 'the Teleoperated Period is called the Endgame, where robots attempt to park, '\n",
      " \"dock on, or engage with their alliance's charge station, or continue to \"\n",
      " 'score game pieces.')\n"
     ]
    }
   ],
   "source": [
    "pprint(gpt4frc.ask_question(question=\"What do you know about the Teleoperated period?\"))"
   ]
  },
  {
   "cell_type": "code",
   "execution_count": 8,
   "metadata": {},
   "outputs": [
    {
     "name": "stdout",
     "output_type": "stream",
     "text": [
      "('CHARGED UP is a game in the FIRST Robotics Competition where two alliances '\n",
      " 'compete to bring energy to their community. They do this by retrieving game '\n",
      " 'pieces from substations and scoring them into the grid. During the '\n",
      " 'Teleoperated Period, which is the final 2 minutes and 15 seconds of the '\n",
      " 'match, drivers take control of the robots and continue to retrieve and score '\n",
      " 'game pieces onto the grid. They also have the option to dock or engage with '\n",
      " 'their charge station to earn points. So, the Teleoperated Period is when the '\n",
      " 'drivers control the robots and continue to score game pieces and interact '\n",
      " 'with the charge station in the CHARGED UP game.')\n"
     ]
    }
   ],
   "source": [
    "pprint(gpt4frc.ask_question(question=\"What do you know about Charged Up?\"))"
   ]
  },
  {
   "cell_type": "code",
   "execution_count": 9,
   "metadata": {},
   "outputs": [
    {
     "name": "stdout",
     "output_type": "stream",
     "text": [
      "('During the Autonomous Period in the FIRST Robotics Competition, which lasts '\n",
      " 'for 15 seconds, robots operate without any input or control from the drive '\n",
      " 'team. The robots attempt to score game pieces on grids, exit their '\n",
      " \"alliance's community, retrieve additional game pieces, and dock on and/or \"\n",
      " 'engage with their charge station before the end of the phase. There is a '\n",
      " '3-second delay between the Autonomous Period and the Teleoperated Period for '\n",
      " 'scoring purposes.')\n"
     ]
    }
   ],
   "source": [
    "pprint(gpt4frc.ask_question(question=\"What are the rules for the Autonomous period?\"))"
   ]
  },
  {
   "cell_type": "code",
   "execution_count": 10,
   "metadata": {},
   "outputs": [
    {
     "name": "stdout",
     "output_type": "stream",
     "text": [
      "('The rules for scoring game pieces in the FIRST Robotics Competition are '\n",
      " 'outlined in Section 6.4 of the Game Manual. During the Teleoperated Period '\n",
      " '(TELEOP), drivers remotely operate robots to retrieve and score game pieces. '\n",
      " 'The alliance is rewarded for scoring game pieces on grids, completing links, '\n",
      " 'docking on and/or engaging with their charge station, parking, and winning '\n",
      " 'or tying matches. The specific criteria for completion and point values for '\n",
      " 'these actions are listed throughout the section.')\n"
     ]
    }
   ],
   "source": [
    "pprint(gpt4frc.ask_question(question=\"What are the rules for scoring game pieces?\"))"
   ]
  }
 ],
 "metadata": {
  "kernelspec": {
   "display_name": "gpt4frc",
   "language": "python",
   "name": "python3"
  },
  "language_info": {
   "codemirror_mode": {
    "name": "ipython",
    "version": 3
   },
   "file_extension": ".py",
   "mimetype": "text/x-python",
   "name": "python",
   "nbconvert_exporter": "python",
   "pygments_lexer": "ipython3",
   "version": "3.11.4"
  },
  "orig_nbformat": 4
 },
 "nbformat": 4,
 "nbformat_minor": 2
}
